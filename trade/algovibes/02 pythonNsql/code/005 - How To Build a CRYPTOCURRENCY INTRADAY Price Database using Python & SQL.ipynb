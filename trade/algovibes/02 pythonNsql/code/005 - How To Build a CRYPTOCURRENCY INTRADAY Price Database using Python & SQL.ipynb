{
 "cells": [
  {
   "cell_type": "code",
   "execution_count": null,
   "id": "05fc5595",
   "metadata": {},
   "outputs": [],
   "source": [
    "import pandas as pd\n",
    "from pandas.tseries.offsets import MonthEnd\n",
    "from sqlalchemy import create_engine\n",
    "from binance.client import Client\n",
    "from time import sleep"
   ]
  },
  {
   "cell_type": "code",
   "execution_count": null,
   "id": "f8998848",
   "metadata": {},
   "outputs": [],
   "source": [
    "client = Client()"
   ]
  },
  {
   "cell_type": "code",
   "execution_count": null,
   "id": "540c8bf4",
   "metadata": {},
   "outputs": [],
   "source": [
    "engine = create_engine('sqlite:///Cointest.db') "
   ]
  },
  {
   "cell_type": "code",
   "execution_count": null,
   "id": "2db2cbe0",
   "metadata": {},
   "outputs": [],
   "source": [
    "# def getdata(symbol, start):\n",
    "#     frame = pd.DataFrame(client.get_historical_klines(symbol,'1m',start))\n",
    "#     frame = frame.iloc[:,:6]\n",
    "#     frame.columns = ['Time','Open','High','Low','Close','Volume']\n",
    "#     frame.set_index('Time', inplace=True)\n",
    "#     frame.index = pd.to_datetime(frame.index,unit='ms')\n",
    "#     frame = frame.astype(float)\n",
    "#     return frame"
   ]
  },
  {
   "cell_type": "code",
   "execution_count": null,
   "id": "cef96124",
   "metadata": {},
   "outputs": [],
   "source": [
    "def getdata(symbol, start):\n",
    "    end = str(pd.to_datetime(start) + MonthEnd(0))\n",
    "    frame = pd.DataFrame(client.get_historical_klines(symbol,'1m',start,end))\n",
    "    frame = frame.iloc[:,:6]\n",
    "    frame.columns = ['Time','Open','High','Low','Close','Volume']\n",
    "    frame.set_index('Time', inplace=True)\n",
    "    frame.index = pd.to_datetime(frame.index,unit='ms')\n",
    "    frame = frame.astype(float)\n",
    "    return frame"
   ]
  },
  {
   "cell_type": "code",
   "execution_count": null,
   "id": "23a0fab2",
   "metadata": {},
   "outputs": [],
   "source": [
    "getdata('BTCUSDT','2022-09-05')"
   ]
  },
  {
   "cell_type": "code",
   "execution_count": null,
   "id": "573e9b57",
   "metadata": {},
   "outputs": [],
   "source": [
    "coins = ('BTCUSDT','ETHUSDT','BNBUSDT')"
   ]
  },
  {
   "cell_type": "code",
   "execution_count": null,
   "id": "8aa6a906",
   "metadata": {},
   "outputs": [],
   "source": [
    "daterange = pd.date_range('2022-11-05', pd.to_datetime('today'), freq='MS')"
   ]
  },
  {
   "cell_type": "code",
   "execution_count": null,
   "id": "917c006f",
   "metadata": {},
   "outputs": [],
   "source": [
    "for coin in coins:\n",
    "    for date in daterange:\n",
    "        print(f'processing {date.month_name()} for {coin}...')\n",
    "        df = getdata(coin, str(date))\n",
    "        df.to_sql(coin, engine, if_exists='append',index=True)\n",
    "        sleep(60)\n",
    "    print(f'finished {coin}')"
   ]
  },
  {
   "cell_type": "code",
   "execution_count": null,
   "id": "3967c63a",
   "metadata": {},
   "outputs": [],
   "source": [
    "pd.read_sql('SELECT * FROM BTCUSDT', engine)"
   ]
  },
  {
   "cell_type": "code",
   "execution_count": null,
   "id": "67a77e9f",
   "metadata": {},
   "outputs": [],
   "source": [
    "## 遇到了些问题，且之后还有部分内容，先暂时不管"
   ]
  }
 ],
 "metadata": {
  "kernelspec": {
   "display_name": "Python 3.10.5 64-bit",
   "language": "python",
   "name": "python3"
  },
  "language_info": {
   "codemirror_mode": {
    "name": "ipython",
    "version": 3
   },
   "file_extension": ".py",
   "mimetype": "text/x-python",
   "name": "python",
   "nbconvert_exporter": "python",
   "pygments_lexer": "ipython3",
   "version": "3.10.5"
  },
  "vscode": {
   "interpreter": {
    "hash": "949777d72b0d2535278d3dc13498b2535136f6dfe0678499012e853ee9abcab1"
   }
  }
 },
 "nbformat": 4,
 "nbformat_minor": 5
}
