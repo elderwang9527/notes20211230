{
 "cells": [
  {
   "cell_type": "code",
   "execution_count": null,
   "id": "81dca7ed",
   "metadata": {},
   "outputs": [],
   "source": [
    "import sqlite3"
   ]
  },
  {
   "cell_type": "code",
   "execution_count": null,
   "id": "d8c7829f",
   "metadata": {},
   "outputs": [],
   "source": [
    "connection = sqlite3.connect('OurDataBase.db')"
   ]
  },
  {
   "cell_type": "code",
   "execution_count": null,
   "id": "87546f9c",
   "metadata": {},
   "outputs": [],
   "source": [
    "cursor = connection.cursor()"
   ]
  },
  {
   "cell_type": "code",
   "execution_count": null,
   "id": "ff5882bd",
   "metadata": {},
   "outputs": [],
   "source": [
    "cursor.execute('CREATE TABLE employees(name TEXT, surname TEXT, salary REAL)')"
   ]
  },
  {
   "cell_type": "code",
   "execution_count": null,
   "id": "e35a4a1f",
   "metadata": {},
   "outputs": [],
   "source": [
    "connection.commit()"
   ]
  },
  {
   "cell_type": "code",
   "execution_count": null,
   "id": "ac8c244d",
   "metadata": {},
   "outputs": [],
   "source": [
    "cursor.execute(\"INSERT INTO employees VALUES('Maria','Mayer',100000)\")"
   ]
  },
  {
   "cell_type": "code",
   "execution_count": null,
   "id": "83ac46fe",
   "metadata": {},
   "outputs": [],
   "source": [
    "connection.commit()"
   ]
  },
  {
   "cell_type": "code",
   "execution_count": null,
   "id": "058bc82d",
   "metadata": {},
   "outputs": [],
   "source": [
    "cursor.execute(\"SELECT * FROM employees\")"
   ]
  },
  {
   "cell_type": "code",
   "execution_count": null,
   "id": "1dea58f4",
   "metadata": {},
   "outputs": [],
   "source": [
    "cursor.fetchall()"
   ]
  },
  {
   "cell_type": "code",
   "execution_count": null,
   "id": "d4de8ab1",
   "metadata": {},
   "outputs": [],
   "source": [
    "cursor.execute(\"INSERT INTO employees VALUES('Max','Maxwell',100000)\")"
   ]
  },
  {
   "cell_type": "code",
   "execution_count": null,
   "id": "73ec10fa",
   "metadata": {},
   "outputs": [],
   "source": [
    "connection.commit()"
   ]
  },
  {
   "cell_type": "code",
   "execution_count": null,
   "id": "43506247",
   "metadata": {},
   "outputs": [],
   "source": [
    "cursor.execute(\"SELECT * FROM employees\")"
   ]
  },
  {
   "cell_type": "code",
   "execution_count": null,
   "id": "c6fc960f",
   "metadata": {},
   "outputs": [],
   "source": [
    "cursor.fetchone()"
   ]
  },
  {
   "cell_type": "code",
   "execution_count": null,
   "id": "4eaf0496",
   "metadata": {},
   "outputs": [],
   "source": [
    "for i in cursor.execute(\"SELECT * FROM employees\"):\n",
    "    print(i)"
   ]
  },
  {
   "cell_type": "code",
   "execution_count": null,
   "id": "7f6420c2",
   "metadata": {},
   "outputs": [],
   "source": [
    "name = 'King'\n",
    "surname = 'Arthur'\n",
    "salary = 50000"
   ]
  },
  {
   "cell_type": "code",
   "execution_count": null,
   "id": "64c4b260",
   "metadata": {},
   "outputs": [],
   "source": [
    "cursor.execute(\"INSERT INTO employees VALUES(?,?,?)\",(name,surname,salary))"
   ]
  },
  {
   "cell_type": "code",
   "execution_count": null,
   "id": "ccab36e7",
   "metadata": {},
   "outputs": [],
   "source": [
    "cursor.execute(\"SELECT * FROM employees\")"
   ]
  },
  {
   "cell_type": "code",
   "execution_count": null,
   "id": "d0311586",
   "metadata": {},
   "outputs": [],
   "source": [
    "cursor.fetchall()"
   ]
  },
  {
   "cell_type": "code",
   "execution_count": null,
   "id": "c9c9f567",
   "metadata": {},
   "outputs": [],
   "source": [
    "name = input('provide a name: ')\n",
    "surname = input('provide a surname: ')\n",
    "salary = float(input('provide a salary: '))"
   ]
  },
  {
   "cell_type": "code",
   "execution_count": null,
   "id": "52f9418f",
   "metadata": {},
   "outputs": [],
   "source": [
    "class SQLinput:\n",
    "    def __init__(self,name,surname,salary):\n",
    "        self.name = name\n",
    "        self.surname = surname\n",
    "        self.salary = salary"
   ]
  },
  {
   "cell_type": "code",
   "execution_count": null,
   "id": "fb575e71",
   "metadata": {},
   "outputs": [],
   "source": [
    "inst = SQLinput('Denzel','Sullivan',10000000)"
   ]
  },
  {
   "cell_type": "code",
   "execution_count": null,
   "id": "07c96b00",
   "metadata": {},
   "outputs": [],
   "source": [
    "name, surname, salary = inst.name, inst.surname, inst.salary"
   ]
  },
  {
   "cell_type": "code",
   "execution_count": null,
   "id": "838bc36e",
   "metadata": {},
   "outputs": [],
   "source": [
    "cursor.execute(\"INSERT INTO employees VALUES(?,?,?)\",(name,surname,salary))"
   ]
  },
  {
   "cell_type": "code",
   "execution_count": null,
   "id": "e49f1f34",
   "metadata": {},
   "outputs": [],
   "source": [
    "cursor.execute(\"SELECT * FROM employees\")"
   ]
  },
  {
   "cell_type": "code",
   "execution_count": null,
   "id": "6e5b0862",
   "metadata": {},
   "outputs": [],
   "source": [
    "cursor.fetchall()"
   ]
  }
 ],
 "metadata": {
  "kernelspec": {
   "display_name": "Python 3.10.5 64-bit",
   "language": "python",
   "name": "python3"
  },
  "language_info": {
   "codemirror_mode": {
    "name": "ipython",
    "version": 3
   },
   "file_extension": ".py",
   "mimetype": "text/x-python",
   "name": "python",
   "nbconvert_exporter": "python",
   "pygments_lexer": "ipython3",
   "version": "3.10.5"
  },
  "vscode": {
   "interpreter": {
    "hash": "949777d72b0d2535278d3dc13498b2535136f6dfe0678499012e853ee9abcab1"
   }
  }
 },
 "nbformat": 4,
 "nbformat_minor": 5
}
