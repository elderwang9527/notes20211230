{
 "cells": [
  {
   "cell_type": "code",
   "execution_count": null,
   "id": "7365cab3",
   "metadata": {},
   "outputs": [],
   "source": [
    "import sqlite3\n",
    "import pandas as pd\n",
    "import sqlalchemy"
   ]
  },
  {
   "cell_type": "code",
   "execution_count": null,
   "id": "ac326010",
   "metadata": {},
   "outputs": [],
   "source": [
    "engine = sqlalchemy.create_engine('sqlite:///OurDataBase.db')"
   ]
  },
  {
   "cell_type": "code",
   "execution_count": null,
   "id": "e56a452f",
   "metadata": {},
   "outputs": [],
   "source": [
    "pd.read_sql('employees',engine)"
   ]
  },
  {
   "cell_type": "code",
   "execution_count": null,
   "id": "8ca9fbc7",
   "metadata": {},
   "outputs": [],
   "source": [
    "# pd.read_sql('SELECT * FROM employees', engine)\n",
    "pd.read_sql('SELECT * FROM employees WHERE salary > 1000', engine)"
   ]
  },
  {
   "cell_type": "code",
   "execution_count": null,
   "id": "75687675",
   "metadata": {},
   "outputs": [],
   "source": [
    "df1 = pd.DataFrame([{'name':'Maxwell','surname':'Foster','salary':120000.00}])"
   ]
  },
  {
   "cell_type": "code",
   "execution_count": null,
   "id": "07475a95",
   "metadata": {},
   "outputs": [],
   "source": [
    "df1"
   ]
  },
  {
   "cell_type": "code",
   "execution_count": null,
   "id": "9c604784",
   "metadata": {},
   "outputs": [],
   "source": [
    "# df1.to_sql('employees',engine)\n",
    "df1.to_sql('employees',engine,if_exists='append', index=False)"
   ]
  },
  {
   "cell_type": "code",
   "execution_count": null,
   "id": "63180788",
   "metadata": {},
   "outputs": [],
   "source": [
    "pd.read_sql('employees',engine)"
   ]
  },
  {
   "cell_type": "code",
   "execution_count": null,
   "id": "afccd85b",
   "metadata": {},
   "outputs": [],
   "source": [
    "# !pip install yfinance"
   ]
  },
  {
   "cell_type": "code",
   "execution_count": null,
   "id": "85e8f373",
   "metadata": {},
   "outputs": [],
   "source": [
    "import yfinance as yf"
   ]
  },
  {
   "cell_type": "code",
   "execution_count": null,
   "id": "b2b3b977",
   "metadata": {},
   "outputs": [],
   "source": [
    "df = yf.download('GME',start='2022-09-01')"
   ]
  },
  {
   "cell_type": "code",
   "execution_count": null,
   "id": "a061f304",
   "metadata": {},
   "outputs": [],
   "source": [
    "df"
   ]
  },
  {
   "cell_type": "code",
   "execution_count": null,
   "id": "2b342dd1",
   "metadata": {},
   "outputs": [],
   "source": [
    "df.to_sql('GME',engine)"
   ]
  },
  {
   "cell_type": "code",
   "execution_count": null,
   "id": "e9422b16",
   "metadata": {},
   "outputs": [],
   "source": [
    "pd.read_sql('GME',engine)"
   ]
  },
  {
   "cell_type": "code",
   "execution_count": null,
   "id": "5f2cea73",
   "metadata": {},
   "outputs": [],
   "source": []
  },
  {
   "cell_type": "code",
   "execution_count": null,
   "id": "aa394ead",
   "metadata": {},
   "outputs": [],
   "source": []
  },
  {
   "cell_type": "code",
   "execution_count": null,
   "id": "4a83664a",
   "metadata": {},
   "outputs": [],
   "source": []
  },
  {
   "cell_type": "code",
   "execution_count": null,
   "id": "baf35990",
   "metadata": {},
   "outputs": [],
   "source": []
  }
 ],
 "metadata": {
  "kernelspec": {
   "display_name": "Python 3 (ipykernel)",
   "language": "python",
   "name": "python3"
  },
  "language_info": {
   "codemirror_mode": {
    "name": "ipython",
    "version": 3
   },
   "file_extension": ".py",
   "mimetype": "text/x-python",
   "name": "python",
   "nbconvert_exporter": "python",
   "pygments_lexer": "ipython3",
   "version": "3.9.12"
  }
 },
 "nbformat": 4,
 "nbformat_minor": 5
}
