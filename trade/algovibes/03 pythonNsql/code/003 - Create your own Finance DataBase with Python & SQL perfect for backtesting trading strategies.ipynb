{
 "cells": [
  {
   "cell_type": "code",
   "execution_count": null,
   "id": "c2c4e142",
   "metadata": {},
   "outputs": [],
   "source": [
    "import sqlalchemy\n",
    "import pandas as pd\n",
    "import yfinance as yf"
   ]
  },
  {
   "cell_type": "code",
   "execution_count": null,
   "id": "bdfccc87",
   "metadata": {},
   "outputs": [],
   "source": [
    "wiki = 'https://en.wikipedia.org/wiki/'"
   ]
  },
  {
   "cell_type": "code",
   "execution_count": null,
   "id": "5ec4ccd8",
   "metadata": {},
   "outputs": [],
   "source": [
    "tickersSensex = pd.read_html(wiki+'BSE_SENSEX')[1].Symbol.to_list()\n",
    "tickersDOW = pd.read_html(wiki+'Dow_Jones_Industrial_Average')[1].Symbol.to_list()"
   ]
  },
  {
   "cell_type": "code",
   "execution_count": null,
   "id": "af9b5cae",
   "metadata": {},
   "outputs": [],
   "source": [
    "def getdata(tickers):\n",
    "    data = []\n",
    "    for ticker in tickers:\n",
    "        data.append(yf.download(ticker).reset_index())\n",
    "    return data"
   ]
  },
  {
   "cell_type": "code",
   "execution_count": null,
   "id": "53414c3a",
   "metadata": {},
   "outputs": [],
   "source": [
    "india, US = getdata(tickersSensex), getdata(tickersDOW)"
   ]
  },
  {
   "cell_type": "code",
   "execution_count": null,
   "id": "299d4d17",
   "metadata": {},
   "outputs": [],
   "source": [
    "US"
   ]
  },
  {
   "cell_type": "code",
   "execution_count": null,
   "id": "05ea125a",
   "metadata": {},
   "outputs": [],
   "source": [
    "def createengine(name):\n",
    "    engine = sqlalchemy.create_engine('sqlite:///'+name)\n",
    "    return engine"
   ]
  },
  {
   "cell_type": "code",
   "execution_count": null,
   "id": "45cc97e7",
   "metadata": {},
   "outputs": [],
   "source": [
    "indiaengine, USengine = createengine('India'),createengine('USA')"
   ]
  },
  {
   "cell_type": "code",
   "execution_count": null,
   "id": "d191332b",
   "metadata": {},
   "outputs": [],
   "source": [
    "def TOSQL(frames, symbols, engine):\n",
    "    for frame, symbol in zip(frames,symbols):\n",
    "        frame.to_sql(symbol, engine, index=False)\n",
    "    print('Successfully imported data')"
   ]
  },
  {
   "cell_type": "code",
   "execution_count": null,
   "id": "b861d388",
   "metadata": {},
   "outputs": [],
   "source": [
    "TOSQL(india, tickersSensex, indiaengine)"
   ]
  },
  {
   "cell_type": "code",
   "execution_count": null,
   "id": "69203736",
   "metadata": {},
   "outputs": [],
   "source": [
    "TOSQL(US, tickersDOW, USengine)"
   ]
  },
  {
   "cell_type": "code",
   "execution_count": null,
   "id": "9c976289",
   "metadata": {},
   "outputs": [],
   "source": [
    "pd.read_sql('AAPL',USengine)"
   ]
  },
  {
   "cell_type": "code",
   "execution_count": null,
   "id": "05811aa6",
   "metadata": {},
   "outputs": [],
   "source": [
    "pd.read_sql('SELECT * FROM AAPL WHERE Close > Open', USengine)"
   ]
  },
  {
   "cell_type": "code",
   "execution_count": null,
   "id": "2c9eb86a",
   "metadata": {},
   "outputs": [],
   "source": [
    "pd.read_sql('SELECT * FROM \"ASIANPAINT.BO\"', indiaengine)"
   ]
  },
  {
   "cell_type": "code",
   "execution_count": null,
   "id": "b3fb1191",
   "metadata": {},
   "outputs": [],
   "source": []
  },
  {
   "cell_type": "code",
   "execution_count": null,
   "id": "adf466f1",
   "metadata": {},
   "outputs": [],
   "source": []
  },
  {
   "cell_type": "code",
   "execution_count": null,
   "id": "8951090b",
   "metadata": {},
   "outputs": [],
   "source": []
  },
  {
   "cell_type": "code",
   "execution_count": null,
   "id": "917c747d",
   "metadata": {},
   "outputs": [],
   "source": []
  },
  {
   "cell_type": "code",
   "execution_count": null,
   "id": "b0f4571c",
   "metadata": {},
   "outputs": [],
   "source": []
  },
  {
   "cell_type": "code",
   "execution_count": null,
   "id": "40c2b023",
   "metadata": {},
   "outputs": [],
   "source": []
  },
  {
   "cell_type": "code",
   "execution_count": null,
   "id": "c140f40e",
   "metadata": {},
   "outputs": [],
   "source": []
  },
  {
   "cell_type": "code",
   "execution_count": null,
   "id": "79a02523",
   "metadata": {},
   "outputs": [],
   "source": []
  },
  {
   "cell_type": "code",
   "execution_count": null,
   "id": "6ea8f972",
   "metadata": {},
   "outputs": [],
   "source": []
  },
  {
   "cell_type": "code",
   "execution_count": null,
   "id": "f4ab46de",
   "metadata": {},
   "outputs": [],
   "source": []
  }
 ],
 "metadata": {
  "kernelspec": {
   "display_name": "Python 3.10.5 64-bit",
   "language": "python",
   "name": "python3"
  },
  "language_info": {
   "codemirror_mode": {
    "name": "ipython",
    "version": 3
   },
   "file_extension": ".py",
   "mimetype": "text/x-python",
   "name": "python",
   "nbconvert_exporter": "python",
   "pygments_lexer": "ipython3",
   "version": "3.10.5"
  },
  "vscode": {
   "interpreter": {
    "hash": "949777d72b0d2535278d3dc13498b2535136f6dfe0678499012e853ee9abcab1"
   }
  }
 },
 "nbformat": 4,
 "nbformat_minor": 5
}
